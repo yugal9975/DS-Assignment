{
 "cells": [
  {
   "cell_type": "markdown",
   "id": "5dd384e0",
   "metadata": {},
   "source": [
    "# set 2"
   ]
  },
  {
   "cell_type": "markdown",
   "id": "19a72fb4",
   "metadata": {},
   "source": [
    "# 1.\tThe time required for servicing transmissions is normally distributed with  = 45 minutes and  = 8 minutes. The service manager plans to have work begin on the transmission of a customer’s car 10 minutes after the car is dropped off and the customer is told that the car will be ready within 1 hour from drop-off. What is the probability that the service manager cannot meet his commitment? \n",
    "\t\t\n",
    "A.\t0.3875 \n",
    "\n",
    "B.\t0.2676 \n",
    "\n",
    "C.\t0.5 \n",
    "\n",
    "D.\t0.6987 "
   ]
  },
  {
   "cell_type": "code",
   "execution_count": 1,
   "id": "00b812c9",
   "metadata": {},
   "outputs": [],
   "source": [
    "import numpy as np\n",
    "from scipy import stats"
   ]
  },
  {
   "cell_type": "code",
   "execution_count": 2,
   "id": "ccaea04a",
   "metadata": {},
   "outputs": [
    {
     "data": {
      "text/plain": [
       "0.26598552904870054"
      ]
     },
     "execution_count": 2,
     "metadata": {},
     "output_type": "execute_result"
    }
   ],
   "source": [
    "1-stats.norm.cdf(50,loc=45,scale=8)"
   ]
  },
  {
   "cell_type": "markdown",
   "id": "85359371",
   "metadata": {},
   "source": [
    "Probability that the service manager cannot meet his commitment is 0.26598"
   ]
  },
  {
   "cell_type": "markdown",
   "id": "f31bfafb",
   "metadata": {},
   "source": [
    "# 4.\tLet X ~ N(100, 202). Find two values, a and b, symmetric about the mean, such that the probability of the random variable taking a value between them is 0.99. \n",
    "\t\n",
    "A.\t90.5, 105.9 \n",
    "\n",
    "B.\t80.2, 119.8\n",
    "\n",
    "C.\t22, 78 \n",
    "\n",
    "D.\t48.5, 151.5\n",
    "\n",
    "E.\t90.1, 109.9"
   ]
  },
  {
   "cell_type": "markdown",
   "id": "31d6f6c4",
   "metadata": {},
   "source": [
    "# Given: p(a<x<b)=0.99\n",
    "        Mean=100\n",
    "              SD=20\n",
    "For identifying the standard normal distribution suchthat area enclosed is 0,99 we have to exclude area of 0.005 in each of the\n",
    "left and right tails."
   ]
  },
  {
   "cell_type": "code",
   "execution_count": 3,
   "id": "48c9a4d6",
   "metadata": {},
   "outputs": [
    {
     "data": {
      "text/plain": [
       "-2.575829303548901"
      ]
     },
     "execution_count": 3,
     "metadata": {},
     "output_type": "execute_result"
    }
   ],
   "source": [
    "stats.norm.ppf(0.005)"
   ]
  },
  {
   "cell_type": "code",
   "execution_count": 4,
   "id": "b74d9a42",
   "metadata": {},
   "outputs": [
    {
     "data": {
      "text/plain": [
       "2.5758293035489004"
      ]
     },
     "execution_count": 4,
     "metadata": {},
     "output_type": "execute_result"
    }
   ],
   "source": [
    "stats.norm.ppf(0.995)"
   ]
  },
  {
   "cell_type": "code",
   "execution_count": null,
   "id": "cce3d016",
   "metadata": {},
   "outputs": [],
   "source": []
  },
  {
   "cell_type": "code",
   "execution_count": 5,
   "id": "b06e9d1e",
   "metadata": {},
   "outputs": [
    {
     "data": {
      "text/plain": [
       "48.48"
      ]
     },
     "execution_count": 5,
     "metadata": {},
     "output_type": "execute_result"
    }
   ],
   "source": [
    "a= -(20*2.576)+100\n",
    "a"
   ]
  },
  {
   "cell_type": "code",
   "execution_count": 6,
   "id": "2973bccc",
   "metadata": {},
   "outputs": [
    {
     "data": {
      "text/plain": [
       "151.52"
      ]
     },
     "execution_count": 6,
     "metadata": {},
     "output_type": "execute_result"
    }
   ],
   "source": [
    "b=20*(2.576) +100 \n",
    "b"
   ]
  },
  {
   "cell_type": "markdown",
   "id": "a1153846",
   "metadata": {},
   "source": [
    "D option is correct"
   ]
  },
  {
   "cell_type": "markdown",
   "id": "e8857863",
   "metadata": {},
   "source": [
    "# 5.\tConsider a company that has two different divisions. The annual profits from the two divisions are independent and have distributions Profit1 ~ N(5, 32) and Profit2 ~ N(7, 42) respectively. Both the profits are in $ Million. Answer the following questions about the total profit of the company in Rupees. Assume that $1 = Rs. 45\n",
    "A.\tSpecify a Rupee range (centered on the mean) such that it contains 95% probability for the annual profit of the company.\n",
    "\n",
    "B.\tSpecify the 5th percentile of profit (in Rupees) for the company\n",
    "\n",
    "C.\tWhich of the two divisions has a larger probability of making a loss in a given year?"
   ]
  },
  {
   "cell_type": "code",
   "execution_count": 7,
   "id": "ee257612",
   "metadata": {},
   "outputs": [],
   "source": [
    "import pandas as pd\n",
    "import numpy as np\n",
    "from scipy import stats\n",
    "from scipy.stats import norm"
   ]
  },
  {
   "cell_type": "code",
   "execution_count": 8,
   "id": "b6b2aa53",
   "metadata": {},
   "outputs": [
    {
     "name": "stdout",
     "output_type": "stream",
     "text": [
      "Mean profit is Rs 540 Million\n"
     ]
    }
   ],
   "source": [
    "#mean profitfrom two different divisions of a company = Mean1 + Mean2\n",
    "Mean = 5+7\n",
    "print('Mean profit is Rs', Mean*45,'Million')"
   ]
  },
  {
   "cell_type": "code",
   "execution_count": 9,
   "id": "1442d301",
   "metadata": {},
   "outputs": [
    {
     "name": "stdout",
     "output_type": "stream",
     "text": [
      "standard deviation is Rs 225.0 Million\n"
     ]
    }
   ],
   "source": [
    "# Variance of profit from different divisions of a company =SD^2 =SD62 +sd262\n",
    "SD = np.sqrt((9)+(16))\n",
    "print('standard deviation is Rs', SD*45, 'Million')"
   ]
  },
  {
   "cell_type": "code",
   "execution_count": 10,
   "id": "ba025b3b",
   "metadata": {},
   "outputs": [
    {
     "name": "stdout",
     "output_type": "stream",
     "text": [
      "Range is Rs (99.00810347848784, 980.9918965215122) in Millions\n"
     ]
    }
   ],
   "source": [
    "# A. Specify Aa Rupee range (centred on the mean) such that it contain 95% probability for the annualprofit of the company.\n",
    "print('Range is Rs',(stats.norm.interval(0.95,540,225)),'in Millions')"
   ]
  },
  {
   "cell_type": "code",
   "execution_count": 11,
   "id": "81dbb986",
   "metadata": {},
   "outputs": [
    {
     "name": "stdout",
     "output_type": "stream",
     "text": [
      "5th percentile of profit (in Million Rupees) is 170.0\n"
     ]
    }
   ],
   "source": [
    "# B. specify the 5th percentile of profite ( in Rupees) for the company\n",
    "# To compute 5th percentile , we use the formula X=µ + Zσ;whrein from z table, 5 percentile = -1.645\n",
    "x=540+(-1.645)*(225)\n",
    "print('5th percentile of profit (in Million Rupees) is',np.round(x,))"
   ]
  },
  {
   "cell_type": "code",
   "execution_count": 12,
   "id": "63484a99",
   "metadata": {},
   "outputs": [],
   "source": [
    "# C. Which of the two divisions has a larger probbility of making a loss in a given year?"
   ]
  },
  {
   "cell_type": "code",
   "execution_count": 13,
   "id": "7c2e167b",
   "metadata": {},
   "outputs": [
    {
     "data": {
      "text/plain": [
       "0.0477903522728147"
      ]
     },
     "execution_count": 13,
     "metadata": {},
     "output_type": "execute_result"
    }
   ],
   "source": [
    "#proabbailty of division 1 making a loss p(x<0)\n",
    "stats.norm.cdf(0,5,3)"
   ]
  },
  {
   "cell_type": "code",
   "execution_count": 14,
   "id": "f5881b85",
   "metadata": {},
   "outputs": [
    {
     "data": {
      "text/plain": [
       "0.040059156863817086"
      ]
     },
     "execution_count": 14,
     "metadata": {},
     "output_type": "execute_result"
    }
   ],
   "source": [
    "#proabbailty of division 2 making a loss p(x<0)\n",
    "stats.norm.cdf(0,7,4)"
   ]
  },
  {
   "cell_type": "markdown",
   "id": "7dca2829",
   "metadata": {},
   "source": [
    "division 2nd\n"
   ]
  },
  {
   "cell_type": "markdown",
   "id": "30623c06",
   "metadata": {},
   "source": [
    "# set 4"
   ]
  },
  {
   "cell_type": "markdown",
   "id": "3f475896",
   "metadata": {},
   "source": [
    "# 3.\tAuditors at a small community bank randomly sample 100 withdrawal transactions made during the week at an ATM machine located near the bank’s main branch. Over the past 2 years, the average withdrawal amount has been $50 with a standard deviation of $40. Since audit investigations are typically expensive, the auditors decide to not initiate further investigations if the mean transaction amount of the sample is between $45 and $55. What is the probability that in any given week, there will be an investigation\n",
    "A.\t1.25%\n",
    "\n",
    "B.\t2.5%\n",
    "\n",
    "C.\t10.55%\n",
    "\n",
    "D.\t21.1%\n",
    "\n",
    "E.\t50%\n"
   ]
  },
  {
   "cell_type": "code",
   "execution_count": 15,
   "id": "385e30b8",
   "metadata": {},
   "outputs": [],
   "source": [
    "import numpy as np\n",
    "import pandas as pd\n",
    "import matplotlib.pyplot\n",
    "import seaborn as sns\n",
    "from scipy import stats\n",
    "from scipy.stats import norm"
   ]
  },
  {
   "cell_type": "code",
   "execution_count": 16,
   "id": "35655e34",
   "metadata": {},
   "outputs": [
    {
     "data": {
      "text/plain": [
       "-1.25"
      ]
     },
     "execution_count": 16,
     "metadata": {},
     "output_type": "execute_result"
    }
   ],
   "source": [
    "# For No investigation P(45<X<55)\n",
    "# For Investigation 1-P(45<X<55)\n",
    "\n",
    "# find z-scores at x=45; z=(s_mean-P_mean)/(p_SD/sqrt(n))\n",
    "z=(45-50)/(40/100**0.5)\n",
    "z"
   ]
  },
  {
   "cell_type": "code",
   "execution_count": 17,
   "id": "dca25043",
   "metadata": {},
   "outputs": [
    {
     "data": {
      "text/plain": [
       "1.25"
      ]
     },
     "execution_count": 17,
     "metadata": {},
     "output_type": "execute_result"
    }
   ],
   "source": [
    "# find z-scores at x=55; z=(s_mean-P_mean)/(p_SD/sqrt(n))\n",
    "z=(55-50)/(40/100**0.5)\n",
    "z"
   ]
  },
  {
   "cell_type": "code",
   "execution_count": 18,
   "id": "88679482",
   "metadata": {},
   "outputs": [
    {
     "data": {
      "text/plain": [
       "0.7887004526662893"
      ]
     },
     "execution_count": 18,
     "metadata": {},
     "output_type": "execute_result"
    }
   ],
   "source": [
    "# For No investigation P(45<X<55) using z_scores = P(X<50)-P(X<45)\n",
    "stats.norm.cdf(1.25)-stats.norm.cdf(-1.25)"
   ]
  },
  {
   "cell_type": "code",
   "execution_count": 19,
   "id": "68643e10",
   "metadata": {},
   "outputs": [
    {
     "data": {
      "text/plain": [
       "(45.00000495667348, 54.99999504332652)"
      ]
     },
     "execution_count": 19,
     "metadata": {},
     "output_type": "execute_result"
    }
   ],
   "source": [
    "stats.norm.interval(0.7887,loc=50,scale=40/(100**0.5))"
   ]
  },
  {
   "cell_type": "code",
   "execution_count": 20,
   "id": "6d6f0e90",
   "metadata": {
    "scrolled": true
   },
   "outputs": [
    {
     "data": {
      "text/plain": [
       "0.21130000000000004"
      ]
     },
     "execution_count": 20,
     "metadata": {},
     "output_type": "execute_result"
    }
   ],
   "source": [
    "# For Investigation 1-P(45<X<55)\n",
    "1-0.7887"
   ]
  },
  {
   "cell_type": "markdown",
   "id": "a98ebbdc",
   "metadata": {},
   "source": [
    "      Answer: D. 21.1%"
   ]
  },
  {
   "cell_type": "code",
   "execution_count": null,
   "id": "6a5ca32c",
   "metadata": {},
   "outputs": [],
   "source": []
  },
  {
   "cell_type": "code",
   "execution_count": null,
   "id": "c03457e7",
   "metadata": {},
   "outputs": [],
   "source": []
  }
 ],
 "metadata": {
  "kernelspec": {
   "display_name": "Python 3 (ipykernel)",
   "language": "python",
   "name": "python3"
  },
  "language_info": {
   "codemirror_mode": {
    "name": "ipython",
    "version": 3
   },
   "file_extension": ".py",
   "mimetype": "text/x-python",
   "name": "python",
   "nbconvert_exporter": "python",
   "pygments_lexer": "ipython3",
   "version": "3.9.12"
  }
 },
 "nbformat": 4,
 "nbformat_minor": 5
}
